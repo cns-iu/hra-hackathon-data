{
 "cells": [
  {
   "cell_type": "code",
   "execution_count": 6,
   "id": "ca2752aa",
   "metadata": {},
   "outputs": [],
   "source": [
    "import pandas as pd\n",
    "import requests\n"
   ]
  },
  {
   "cell_type": "code",
   "execution_count": null,
   "id": "6636d1c9",
   "metadata": {},
   "outputs": [
    {
     "name": "stderr",
     "output_type": "stream",
     "text": [
      "<>:2: SyntaxWarning: invalid escape sequence '\\R'\n",
      "<>:2: SyntaxWarning: invalid escape sequence '\\R'\n",
      "C:\\Users\\ruope\\AppData\\Local\\Temp\\ipykernel_18796\\1272922246.py:2: SyntaxWarning: invalid escape sequence '\\R'\n",
      "  df = pd.read_csv(\"E:\\Research_umich\\Professor_He\\IU_hackthon\\input_file\\hpo-kidney-genes-to-phenotype-edges.csv\")\n"
     ]
    }
   ],
   "source": [
    "\n",
    "df = pd.read_csv(\"E:\\Research_umich\\Professor_He\\IU_hackthon\\input_file\\hpo-kidney-genes-to-phenotype-edges.csv\")"
   ]
  },
  {
   "cell_type": "code",
   "execution_count": 28,
   "id": "f12ec4bb",
   "metadata": {},
   "outputs": [
    {
     "data": {
      "text/html": [
       "<div>\n",
       "<style scoped>\n",
       "    .dataframe tbody tr th:only-of-type {\n",
       "        vertical-align: middle;\n",
       "    }\n",
       "\n",
       "    .dataframe tbody tr th {\n",
       "        vertical-align: top;\n",
       "    }\n",
       "\n",
       "    .dataframe thead th {\n",
       "        text-align: right;\n",
       "    }\n",
       "</style>\n",
       "<table border=\"1\" class=\"dataframe\">\n",
       "  <thead>\n",
       "    <tr style=\"text-align: right;\">\n",
       "      <th></th>\n",
       "      <th>subject</th>\n",
       "      <th>predicate</th>\n",
       "      <th>object</th>\n",
       "      <th>source</th>\n",
       "    </tr>\n",
       "  </thead>\n",
       "  <tbody>\n",
       "    <tr>\n",
       "      <th>0</th>\n",
       "      <td>http://identifiers.org/hgnc/124</td>\n",
       "      <td>https://purl.humanatlas.io/vocab/hp#has_modifier</td>\n",
       "      <td>http://purl.obolibrary.org/obo/HP_0005576</td>\n",
       "      <td>https://purl.humanatlas.io/vocab/hp</td>\n",
       "    </tr>\n",
       "    <tr>\n",
       "      <th>1</th>\n",
       "      <td>http://identifiers.org/hgnc/124</td>\n",
       "      <td>https://purl.humanatlas.io/vocab/hp#has_modifier</td>\n",
       "      <td>http://purl.obolibrary.org/obo/HP_0012622</td>\n",
       "      <td>https://purl.humanatlas.io/vocab/hp</td>\n",
       "    </tr>\n",
       "    <tr>\n",
       "      <th>2</th>\n",
       "      <td>http://identifiers.org/hgnc/124</td>\n",
       "      <td>https://purl.humanatlas.io/vocab/hp#has_modifier</td>\n",
       "      <td>http://purl.obolibrary.org/obo/HP_0000790</td>\n",
       "      <td>https://purl.humanatlas.io/vocab/hp</td>\n",
       "    </tr>\n",
       "    <tr>\n",
       "      <th>3</th>\n",
       "      <td>http://identifiers.org/hgnc/132</td>\n",
       "      <td>https://purl.humanatlas.io/vocab/hp#has_modifier</td>\n",
       "      <td>http://purl.obolibrary.org/obo/HP_0000126</td>\n",
       "      <td>https://purl.humanatlas.io/vocab/hp</td>\n",
       "    </tr>\n",
       "    <tr>\n",
       "      <th>4</th>\n",
       "      <td>http://identifiers.org/hgnc/144</td>\n",
       "      <td>https://purl.humanatlas.io/vocab/hp#has_modifier</td>\n",
       "      <td>http://purl.obolibrary.org/obo/HP_0000126</td>\n",
       "      <td>https://purl.humanatlas.io/vocab/hp</td>\n",
       "    </tr>\n",
       "    <tr>\n",
       "      <th>...</th>\n",
       "      <td>...</td>\n",
       "      <td>...</td>\n",
       "      <td>...</td>\n",
       "      <td>...</td>\n",
       "    </tr>\n",
       "    <tr>\n",
       "      <th>5069</th>\n",
       "      <td>http://identifiers.org/hgnc/43984</td>\n",
       "      <td>https://purl.humanatlas.io/vocab/hp#has_modifier</td>\n",
       "      <td>http://purl.obolibrary.org/obo/HP_0001919</td>\n",
       "      <td>https://purl.humanatlas.io/vocab/hp</td>\n",
       "    </tr>\n",
       "    <tr>\n",
       "      <th>5070</th>\n",
       "      <td>http://identifiers.org/hgnc/49094</td>\n",
       "      <td>https://purl.humanatlas.io/vocab/hp#has_modifier</td>\n",
       "      <td>http://purl.obolibrary.org/obo/HP_0100820</td>\n",
       "      <td>https://purl.humanatlas.io/vocab/hp</td>\n",
       "    </tr>\n",
       "    <tr>\n",
       "      <th>5071</th>\n",
       "      <td>http://identifiers.org/hgnc/49094</td>\n",
       "      <td>https://purl.humanatlas.io/vocab/hp#has_modifier</td>\n",
       "      <td>http://purl.obolibrary.org/obo/HP_0000083</td>\n",
       "      <td>https://purl.humanatlas.io/vocab/hp</td>\n",
       "    </tr>\n",
       "    <tr>\n",
       "      <th>5072</th>\n",
       "      <td>http://identifiers.org/hgnc/49094</td>\n",
       "      <td>https://purl.humanatlas.io/vocab/hp#has_modifier</td>\n",
       "      <td>http://purl.obolibrary.org/obo/HP_0000099</td>\n",
       "      <td>https://purl.humanatlas.io/vocab/hp</td>\n",
       "    </tr>\n",
       "    <tr>\n",
       "      <th>5073</th>\n",
       "      <td>http://identifiers.org/hgnc/52391</td>\n",
       "      <td>https://purl.humanatlas.io/vocab/hp#has_modifier</td>\n",
       "      <td>http://purl.obolibrary.org/obo/HP_0000126</td>\n",
       "      <td>https://purl.humanatlas.io/vocab/hp</td>\n",
       "    </tr>\n",
       "  </tbody>\n",
       "</table>\n",
       "<p>5074 rows × 4 columns</p>\n",
       "</div>"
      ],
      "text/plain": [
       "                                subject  \\\n",
       "0       http://identifiers.org/hgnc/124   \n",
       "1       http://identifiers.org/hgnc/124   \n",
       "2       http://identifiers.org/hgnc/124   \n",
       "3       http://identifiers.org/hgnc/132   \n",
       "4       http://identifiers.org/hgnc/144   \n",
       "...                                 ...   \n",
       "5069  http://identifiers.org/hgnc/43984   \n",
       "5070  http://identifiers.org/hgnc/49094   \n",
       "5071  http://identifiers.org/hgnc/49094   \n",
       "5072  http://identifiers.org/hgnc/49094   \n",
       "5073  http://identifiers.org/hgnc/52391   \n",
       "\n",
       "                                             predicate  \\\n",
       "0     https://purl.humanatlas.io/vocab/hp#has_modifier   \n",
       "1     https://purl.humanatlas.io/vocab/hp#has_modifier   \n",
       "2     https://purl.humanatlas.io/vocab/hp#has_modifier   \n",
       "3     https://purl.humanatlas.io/vocab/hp#has_modifier   \n",
       "4     https://purl.humanatlas.io/vocab/hp#has_modifier   \n",
       "...                                                ...   \n",
       "5069  https://purl.humanatlas.io/vocab/hp#has_modifier   \n",
       "5070  https://purl.humanatlas.io/vocab/hp#has_modifier   \n",
       "5071  https://purl.humanatlas.io/vocab/hp#has_modifier   \n",
       "5072  https://purl.humanatlas.io/vocab/hp#has_modifier   \n",
       "5073  https://purl.humanatlas.io/vocab/hp#has_modifier   \n",
       "\n",
       "                                         object  \\\n",
       "0     http://purl.obolibrary.org/obo/HP_0005576   \n",
       "1     http://purl.obolibrary.org/obo/HP_0012622   \n",
       "2     http://purl.obolibrary.org/obo/HP_0000790   \n",
       "3     http://purl.obolibrary.org/obo/HP_0000126   \n",
       "4     http://purl.obolibrary.org/obo/HP_0000126   \n",
       "...                                         ...   \n",
       "5069  http://purl.obolibrary.org/obo/HP_0001919   \n",
       "5070  http://purl.obolibrary.org/obo/HP_0100820   \n",
       "5071  http://purl.obolibrary.org/obo/HP_0000083   \n",
       "5072  http://purl.obolibrary.org/obo/HP_0000099   \n",
       "5073  http://purl.obolibrary.org/obo/HP_0000126   \n",
       "\n",
       "                                   source  \n",
       "0     https://purl.humanatlas.io/vocab/hp  \n",
       "1     https://purl.humanatlas.io/vocab/hp  \n",
       "2     https://purl.humanatlas.io/vocab/hp  \n",
       "3     https://purl.humanatlas.io/vocab/hp  \n",
       "4     https://purl.humanatlas.io/vocab/hp  \n",
       "...                                   ...  \n",
       "5069  https://purl.humanatlas.io/vocab/hp  \n",
       "5070  https://purl.humanatlas.io/vocab/hp  \n",
       "5071  https://purl.humanatlas.io/vocab/hp  \n",
       "5072  https://purl.humanatlas.io/vocab/hp  \n",
       "5073  https://purl.humanatlas.io/vocab/hp  \n",
       "\n",
       "[5074 rows x 4 columns]"
      ]
     },
     "execution_count": 28,
     "metadata": {},
     "output_type": "execute_result"
    }
   ],
   "source": [
    "df "
   ]
  },
  {
   "cell_type": "code",
   "execution_count": 7,
   "id": "e51bcf5f",
   "metadata": {},
   "outputs": [],
   "source": [
    "gene_order = [\n",
    "    'CCL21', 'NRXN1', 'SLC9A3', 'SPP1', 'SERPINE2',\n",
    "    \"IL18\", \"NBAS\", \"SLC9A3\", \"TIMP2\", \"IGFBP7\", \n",
    "    \"SUGP1\", \"APOA1\", \"MMP9\", \"ITGAM\", \"FEV\", \n",
    "    \"TFF3\", \"B2M\", \"S100A6\", \"IL10\", 'IL6', \n",
    "    \"CXCL8\", \"LCN2\", \"HAVCR1\", \"CST3\", \"CCL2\", \"FABP1\"\n",
    "]"
   ]
  },
  {
   "cell_type": "code",
   "execution_count": null,
   "id": "dc7cb967",
   "metadata": {},
   "outputs": [],
   "source": [
    "def get_hgnc_info(gene):\n",
    "    \"\"\"Query OLS for HGNC term of a gene symbol.\"\"\"\n",
    "    url = \"https://www.ebi.ac.uk/ols/api/search\"\n",
    "    params = {\"q\": gene, \"ontology\": \"hgnc\", \"exact\": \"true\"}\n",
    "    r = requests.get(url, params=params)\n",
    "\n",
    "    if r.status_code == 200:\n",
    "        data = r.json()\n",
    "        if data['response']['numFound'] > 0:\n",
    "            hit = data['response']['docs'][0]\n",
    "            iri_raw=hit.get(\"iri\")\n",
    "            iri_formal=\"http://identifiers.org/hgnc/\"+iri_raw.rsplit(\"/\", 1)[-1]\n",
    "            return {\n",
    "                \"gene\": gene,\n",
    "                \"iri\":  iri_formal,\n",
    "                \"label\": hit.get(\"label\"),\n",
    "                \"source\": \"HGNC\"\n",
    "            }\n",
    "    return {\"gene\": gene, \"iri\": None, \"label\": None, \"source\": None}"
   ]
  },
  {
   "cell_type": "code",
   "execution_count": 37,
   "id": "50eb28a4",
   "metadata": {},
   "outputs": [],
   "source": [
    "spp1=get_hgnc_info(\"SPP1\")"
   ]
  },
  {
   "cell_type": "code",
   "execution_count": 40,
   "id": "8f375d75",
   "metadata": {},
   "outputs": [
    {
     "data": {
      "text/plain": [
       "'http://identifiers.org/hgnc/11255'"
      ]
     },
     "execution_count": 40,
     "metadata": {},
     "output_type": "execute_result"
    }
   ],
   "source": [
    "spp1['iri']"
   ]
  },
  {
   "cell_type": "code",
   "execution_count": 43,
   "id": "5f762924",
   "metadata": {},
   "outputs": [],
   "source": [
    "\n",
    "df_edge = pd.DataFrame(columns=[\"subject\", \"predicate\",\"object\", \"source\"])\n",
    "\n"
   ]
  },
  {
   "cell_type": "code",
   "execution_count": 44,
   "id": "77d973a6",
   "metadata": {},
   "outputs": [],
   "source": [
    "for gene in gene_order:\n",
    "    iri=get_hgnc_info(gene)\n",
    "    df_edge = pd.concat([df_edge, pd.DataFrame([{\n",
    "    \"subject\": iri['iri'],\n",
    "    \"predicate\": \"https://purl.humanatlas.io/vocab/hp#associated_with\",\n",
    "    \"object\": \"http://purl.obolibrary.org/obo/HP_0001919\",\n",
    "    \"source\": \"https://purl.humanatlas.io/vocab/hp\"\n",
    "    }])], ignore_index=True)"
   ]
  },
  {
   "cell_type": "code",
   "execution_count": 46,
   "id": "c93af2c7",
   "metadata": {},
   "outputs": [],
   "source": [
    "df_edge.to_csv(\"AMIA_gene_to_phenotype.csv\")"
   ]
  },
  {
   "cell_type": "code",
   "execution_count": 47,
   "id": "95270936",
   "metadata": {},
   "outputs": [],
   "source": [
    "df_node = pd.DataFrame(columns=[\"iri\", \"label\",\"type\", \"source\"])\n",
    "for gene in gene_order:\n",
    "    iri=get_hgnc_info(gene)\n",
    "    df_node = pd.concat([df_node, pd.DataFrame([{\n",
    "    \"iri\": iri['iri'],\n",
    "    \"label\": gene,\n",
    "    \"type\": \"http://purl.bioontology.org/ontology/HGNC/gene\t\",\n",
    "    \"source\": \"https://purl.humanatlas.io/vocab/hp\"\n",
    "    }])], ignore_index=True)"
   ]
  },
  {
   "cell_type": "code",
   "execution_count": 48,
   "id": "ab2932b7",
   "metadata": {},
   "outputs": [],
   "source": [
    "df_edge.to_csv(\"AMIA_gene_to_phenotype_nodes_file.csv\")"
   ]
  }
 ],
 "metadata": {
  "kernelspec": {
   "display_name": "base",
   "language": "python",
   "name": "python3"
  },
  "language_info": {
   "codemirror_mode": {
    "name": "ipython",
    "version": 3
   },
   "file_extension": ".py",
   "mimetype": "text/x-python",
   "name": "python",
   "nbconvert_exporter": "python",
   "pygments_lexer": "ipython3",
   "version": "3.13.5"
  }
 },
 "nbformat": 4,
 "nbformat_minor": 5
}
