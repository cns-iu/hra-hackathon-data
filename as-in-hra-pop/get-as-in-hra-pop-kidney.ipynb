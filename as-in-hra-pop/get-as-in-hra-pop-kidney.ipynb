{
 "cells": [
  {
   "cell_type": "markdown",
   "id": "ff2beda7",
   "metadata": {},
   "source": [
    "## Code to get AS in organs in HRApop v1.0"
   ]
  },
  {
   "cell_type": "code",
   "execution_count": 41,
   "id": "3450075c",
   "metadata": {},
   "outputs": [],
   "source": [
    "## install and import libraries"
   ]
  },
  {
   "cell_type": "code",
   "execution_count": 42,
   "id": "e35fe149",
   "metadata": {},
   "outputs": [
    {
     "name": "stdout",
     "output_type": "stream",
     "text": [
      "Requirement already satisfied: pandas in /Users/abueckle/Documents/GitHub/hra-hackathon-data/.venv/lib/python3.12/site-packages (2.3.2)\n",
      "Requirement already satisfied: requests in /Users/abueckle/Documents/GitHub/hra-hackathon-data/.venv/lib/python3.12/site-packages (2.32.5)\n",
      "Requirement already satisfied: numpy>=1.26.0 in /Users/abueckle/Documents/GitHub/hra-hackathon-data/.venv/lib/python3.12/site-packages (from pandas) (2.3.2)\n",
      "Requirement already satisfied: python-dateutil>=2.8.2 in /Users/abueckle/Documents/GitHub/hra-hackathon-data/.venv/lib/python3.12/site-packages (from pandas) (2.9.0.post0)\n",
      "Requirement already satisfied: pytz>=2020.1 in /Users/abueckle/Documents/GitHub/hra-hackathon-data/.venv/lib/python3.12/site-packages (from pandas) (2025.2)\n",
      "Requirement already satisfied: tzdata>=2022.7 in /Users/abueckle/Documents/GitHub/hra-hackathon-data/.venv/lib/python3.12/site-packages (from pandas) (2025.2)\n",
      "Requirement already satisfied: charset_normalizer<4,>=2 in /Users/abueckle/Documents/GitHub/hra-hackathon-data/.venv/lib/python3.12/site-packages (from requests) (3.4.3)\n",
      "Requirement already satisfied: idna<4,>=2.5 in /Users/abueckle/Documents/GitHub/hra-hackathon-data/.venv/lib/python3.12/site-packages (from requests) (3.10)\n",
      "Requirement already satisfied: urllib3<3,>=1.21.1 in /Users/abueckle/Documents/GitHub/hra-hackathon-data/.venv/lib/python3.12/site-packages (from requests) (2.5.0)\n",
      "Requirement already satisfied: certifi>=2017.4.17 in /Users/abueckle/Documents/GitHub/hra-hackathon-data/.venv/lib/python3.12/site-packages (from requests) (2025.8.3)\n",
      "Requirement already satisfied: six>=1.5 in /Users/abueckle/Documents/GitHub/hra-hackathon-data/.venv/lib/python3.12/site-packages (from python-dateutil>=2.8.2->pandas) (1.17.0)\n",
      "Note: you may need to restart the kernel to use updated packages.\n"
     ]
    }
   ],
   "source": [
    "%pip install pandas requests\n",
    "\n",
    "import pandas as pd\n",
    "import requests\n",
    "from io import StringIO"
   ]
  },
  {
   "cell_type": "code",
   "execution_count": 43,
   "id": "3922667f",
   "metadata": {},
   "outputs": [
    {
     "data": {
      "application/vnd.microsoft.datawrangler.viewer.v0+json": {
       "columns": [
        {
         "name": "index",
         "rawType": "int64",
         "type": "integer"
        },
        {
         "name": "organ",
         "rawType": "object",
         "type": "string"
        },
        {
         "name": "as",
         "rawType": "object",
         "type": "string"
        },
        {
         "name": "as_label",
         "rawType": "object",
         "type": "string"
        },
        {
         "name": "sex",
         "rawType": "object",
         "type": "string"
        },
        {
         "name": "tool",
         "rawType": "object",
         "type": "string"
        },
        {
         "name": "modality",
         "rawType": "object",
         "type": "string"
        },
        {
         "name": "cell_id",
         "rawType": "object",
         "type": "string"
        },
        {
         "name": "cell_label",
         "rawType": "object",
         "type": "string"
        },
        {
         "name": "cell_count",
         "rawType": "float64",
         "type": "float"
        },
        {
         "name": "cell_percentage",
         "rawType": "float64",
         "type": "float"
        },
        {
         "name": "dataset_count",
         "rawType": "int64",
         "type": "integer"
        }
       ],
       "ref": "2db54856-d78c-4d02-b475-91cce7f6355b",
       "rows": [
        [
         "0",
         "large intestine",
         "http://purl.obolibrary.org/obo/UBERON_0001052",
         "rectum",
         "Female",
         "celltypist",
         "sc_transcriptomics",
         "https://purl.org/ccf/ASCTB-TEMP_colonocyte",
         "Colonocyte",
         "1.205",
         "0.1476534738389903",
         "3"
        ],
        [
         "1",
         "large intestine",
         "http://purl.obolibrary.org/obo/UBERON_0001052",
         "rectum",
         "Female",
         "celltypist",
         "sc_transcriptomics",
         "https://purl.org/ccf/ASCTB-TEMP_iga-plasma-cell",
         "IgA plasma cell",
         "1.182",
         "0.144835191765715",
         "3"
        ],
        [
         "2",
         "large intestine",
         "http://purl.obolibrary.org/obo/UBERON_0001052",
         "rectum",
         "Female",
         "celltypist",
         "sc_transcriptomics",
         "https://purl.org/ccf/ASCTB-TEMP_best4-epithelial",
         "BEST4+ epithelial",
         "0.6990000000000001",
         "0.085651268226933",
         "3"
        ],
        [
         "3",
         "large intestine",
         "http://purl.obolibrary.org/obo/UBERON_0001052",
         "rectum",
         "Female",
         "celltypist",
         "sc_transcriptomics",
         "https://purl.org/ccf/ASCTB-TEMP_activated-cd4-t",
         "Activated CD4 T",
         "0.6900000000000001",
         "0.08454846219826005",
         "3"
        ],
        [
         "4",
         "large intestine",
         "http://purl.obolibrary.org/obo/UBERON_0001052",
         "rectum",
         "Female",
         "celltypist",
         "sc_transcriptomics",
         "https://purl.org/ccf/ASCTB-TEMP_ta",
         "TA",
         "0.54",
         "0.06616836172037743",
         "3"
        ]
       ],
       "shape": {
        "columns": 11,
        "rows": 5
       }
      },
      "text/html": [
       "<div>\n",
       "<style scoped>\n",
       "    .dataframe tbody tr th:only-of-type {\n",
       "        vertical-align: middle;\n",
       "    }\n",
       "\n",
       "    .dataframe tbody tr th {\n",
       "        vertical-align: top;\n",
       "    }\n",
       "\n",
       "    .dataframe thead th {\n",
       "        text-align: right;\n",
       "    }\n",
       "</style>\n",
       "<table border=\"1\" class=\"dataframe\">\n",
       "  <thead>\n",
       "    <tr style=\"text-align: right;\">\n",
       "      <th></th>\n",
       "      <th>organ</th>\n",
       "      <th>as</th>\n",
       "      <th>as_label</th>\n",
       "      <th>sex</th>\n",
       "      <th>tool</th>\n",
       "      <th>modality</th>\n",
       "      <th>cell_id</th>\n",
       "      <th>cell_label</th>\n",
       "      <th>cell_count</th>\n",
       "      <th>cell_percentage</th>\n",
       "      <th>dataset_count</th>\n",
       "    </tr>\n",
       "  </thead>\n",
       "  <tbody>\n",
       "    <tr>\n",
       "      <th>0</th>\n",
       "      <td>large intestine</td>\n",
       "      <td>http://purl.obolibrary.org/obo/UBERON_0001052</td>\n",
       "      <td>rectum</td>\n",
       "      <td>Female</td>\n",
       "      <td>celltypist</td>\n",
       "      <td>sc_transcriptomics</td>\n",
       "      <td>https://purl.org/ccf/ASCTB-TEMP_colonocyte</td>\n",
       "      <td>Colonocyte</td>\n",
       "      <td>1.205</td>\n",
       "      <td>0.147653</td>\n",
       "      <td>3</td>\n",
       "    </tr>\n",
       "    <tr>\n",
       "      <th>1</th>\n",
       "      <td>large intestine</td>\n",
       "      <td>http://purl.obolibrary.org/obo/UBERON_0001052</td>\n",
       "      <td>rectum</td>\n",
       "      <td>Female</td>\n",
       "      <td>celltypist</td>\n",
       "      <td>sc_transcriptomics</td>\n",
       "      <td>https://purl.org/ccf/ASCTB-TEMP_iga-plasma-cell</td>\n",
       "      <td>IgA plasma cell</td>\n",
       "      <td>1.182</td>\n",
       "      <td>0.144835</td>\n",
       "      <td>3</td>\n",
       "    </tr>\n",
       "    <tr>\n",
       "      <th>2</th>\n",
       "      <td>large intestine</td>\n",
       "      <td>http://purl.obolibrary.org/obo/UBERON_0001052</td>\n",
       "      <td>rectum</td>\n",
       "      <td>Female</td>\n",
       "      <td>celltypist</td>\n",
       "      <td>sc_transcriptomics</td>\n",
       "      <td>https://purl.org/ccf/ASCTB-TEMP_best4-epithelial</td>\n",
       "      <td>BEST4+ epithelial</td>\n",
       "      <td>0.699</td>\n",
       "      <td>0.085651</td>\n",
       "      <td>3</td>\n",
       "    </tr>\n",
       "    <tr>\n",
       "      <th>3</th>\n",
       "      <td>large intestine</td>\n",
       "      <td>http://purl.obolibrary.org/obo/UBERON_0001052</td>\n",
       "      <td>rectum</td>\n",
       "      <td>Female</td>\n",
       "      <td>celltypist</td>\n",
       "      <td>sc_transcriptomics</td>\n",
       "      <td>https://purl.org/ccf/ASCTB-TEMP_activated-cd4-t</td>\n",
       "      <td>Activated CD4 T</td>\n",
       "      <td>0.690</td>\n",
       "      <td>0.084548</td>\n",
       "      <td>3</td>\n",
       "    </tr>\n",
       "    <tr>\n",
       "      <th>4</th>\n",
       "      <td>large intestine</td>\n",
       "      <td>http://purl.obolibrary.org/obo/UBERON_0001052</td>\n",
       "      <td>rectum</td>\n",
       "      <td>Female</td>\n",
       "      <td>celltypist</td>\n",
       "      <td>sc_transcriptomics</td>\n",
       "      <td>https://purl.org/ccf/ASCTB-TEMP_ta</td>\n",
       "      <td>TA</td>\n",
       "      <td>0.540</td>\n",
       "      <td>0.066168</td>\n",
       "      <td>3</td>\n",
       "    </tr>\n",
       "  </tbody>\n",
       "</table>\n",
       "</div>"
      ],
      "text/plain": [
       "             organ                                             as as_label  \\\n",
       "0  large intestine  http://purl.obolibrary.org/obo/UBERON_0001052   rectum   \n",
       "1  large intestine  http://purl.obolibrary.org/obo/UBERON_0001052   rectum   \n",
       "2  large intestine  http://purl.obolibrary.org/obo/UBERON_0001052   rectum   \n",
       "3  large intestine  http://purl.obolibrary.org/obo/UBERON_0001052   rectum   \n",
       "4  large intestine  http://purl.obolibrary.org/obo/UBERON_0001052   rectum   \n",
       "\n",
       "      sex        tool            modality  \\\n",
       "0  Female  celltypist  sc_transcriptomics   \n",
       "1  Female  celltypist  sc_transcriptomics   \n",
       "2  Female  celltypist  sc_transcriptomics   \n",
       "3  Female  celltypist  sc_transcriptomics   \n",
       "4  Female  celltypist  sc_transcriptomics   \n",
       "\n",
       "                                            cell_id         cell_label  \\\n",
       "0        https://purl.org/ccf/ASCTB-TEMP_colonocyte         Colonocyte   \n",
       "1   https://purl.org/ccf/ASCTB-TEMP_iga-plasma-cell    IgA plasma cell   \n",
       "2  https://purl.org/ccf/ASCTB-TEMP_best4-epithelial  BEST4+ epithelial   \n",
       "3   https://purl.org/ccf/ASCTB-TEMP_activated-cd4-t    Activated CD4 T   \n",
       "4                https://purl.org/ccf/ASCTB-TEMP_ta                 TA   \n",
       "\n",
       "   cell_count  cell_percentage  dataset_count  \n",
       "0       1.205         0.147653              3  \n",
       "1       1.182         0.144835              3  \n",
       "2       0.699         0.085651              3  \n",
       "3       0.690         0.084548              3  \n",
       "4       0.540         0.066168              3  "
      ]
     },
     "execution_count": 43,
     "metadata": {},
     "output_type": "execute_result"
    }
   ],
   "source": [
    "## Load data\n",
    "url = 'https://apps.humanatlas.io/api/grlc/hra-pop/cell_types_in_anatomical_structurescts_per_as'\n",
    "\n",
    "headers = {\n",
    "    \"Accept\": \"text/csv\"\n",
    "}\n",
    "\n",
    "# Send the GET request\n",
    "response = requests.get(url, headers=headers)\n",
    "\n",
    "# convert text to file-like object\n",
    "csv_data = StringIO(response.text)\n",
    "\n",
    "# concert to DataFrame\n",
    "df = pd.read_csv(csv_data)\n",
    "df.head()"
   ]
  },
  {
   "cell_type": "code",
   "execution_count": 44,
   "id": "4e3fcf3e",
   "metadata": {},
   "outputs": [
    {
     "data": {
      "application/vnd.microsoft.datawrangler.viewer.v0+json": {
       "columns": [
        {
         "name": "index",
         "rawType": "int64",
         "type": "integer"
        },
        {
         "name": "organ",
         "rawType": "object",
         "type": "string"
        },
        {
         "name": "as",
         "rawType": "object",
         "type": "string"
        },
        {
         "name": "as_label",
         "rawType": "object",
         "type": "string"
        },
        {
         "name": "sex",
         "rawType": "object",
         "type": "string"
        },
        {
         "name": "dataset_count",
         "rawType": "int64",
         "type": "integer"
        }
       ],
       "ref": "333170b3-37f4-4d71-bd08-0da144a5e6a4",
       "rows": [
        [
         "0",
         "large intestine",
         "http://purl.obolibrary.org/obo/UBERON_0001052",
         "rectum",
         "Female",
         "3"
        ],
        [
         "128",
         "pancreas",
         "http://purl.obolibrary.org/obo/UBERON_0001069",
         "head of pancreas",
         "Female",
         "1"
        ],
        [
         "148",
         "pancreas",
         "http://purl.obolibrary.org/obo/UBERON_0001150",
         "body of pancreas",
         "Female",
         "1"
        ],
        [
         "168",
         "pancreas",
         "http://purl.obolibrary.org/obo/UBERON_0001151",
         "tail of pancreas",
         "Female",
         "1"
        ],
        [
         "188",
         "large intestine",
         "http://purl.obolibrary.org/obo/UBERON_0001153",
         "caecum",
         "Female",
         "3"
        ],
        [
         "336",
         "large intestine",
         "http://purl.obolibrary.org/obo/UBERON_0001153",
         "caecum",
         "Female",
         "2"
        ],
        [
         "358",
         "large intestine",
         "http://purl.obolibrary.org/obo/UBERON_0001156",
         "ascending colon",
         "Female",
         "6"
        ],
        [
         "508",
         "large intestine",
         "http://purl.obolibrary.org/obo/UBERON_0001156",
         "ascending colon",
         "Female",
         "2"
        ],
        [
         "530",
         "large intestine",
         "http://purl.obolibrary.org/obo/UBERON_0001157",
         "transverse colon",
         "Female",
         "3"
        ],
        [
         "678",
         "large intestine",
         "http://purl.obolibrary.org/obo/UBERON_0001157",
         "transverse colon",
         "Female",
         "2"
        ],
        [
         "700",
         "large intestine",
         "http://purl.obolibrary.org/obo/UBERON_0001158",
         "descending colon",
         "Female",
         "4"
        ],
        [
         "847",
         "large intestine",
         "http://purl.obolibrary.org/obo/UBERON_0001158",
         "descending colon",
         "Female",
         "2"
        ],
        [
         "868",
         "large intestine",
         "http://purl.obolibrary.org/obo/UBERON_0001159",
         "sigmoid colon",
         "Female",
         "7"
        ],
        [
         "1018",
         "large intestine",
         "http://purl.obolibrary.org/obo/UBERON_0001159",
         "sigmoid colon",
         "Female",
         "2"
        ],
        [
         "1039",
         "Right ureter",
         "http://purl.obolibrary.org/obo/UBERON_0001222",
         "Right ureter",
         "Female",
         "1"
        ],
        [
         "1062",
         "Left ureter",
         "http://purl.obolibrary.org/obo/UBERON_0001223",
         "Left ureter",
         "Female",
         "4"
        ],
        [
         "1101",
         "Right kidney",
         "http://purl.obolibrary.org/obo/UBERON_0001228",
         "renal papilla",
         "Female",
         "6"
        ],
        [
         "1102",
         "Left kidney",
         "http://purl.obolibrary.org/obo/UBERON_0001228",
         "renal papilla",
         "Female",
         "6"
        ],
        [
         "1179",
         "spleen",
         "http://purl.obolibrary.org/obo/UBERON_0001248",
         "hilum of spleen",
         "Female",
         "2"
        ],
        [
         "1199",
         "spleen",
         "http://purl.obolibrary.org/obo/UBERON_0001248",
         "hilum of spleen",
         "Female",
         "1"
        ],
        [
         "1210",
         "Right kidney",
         "http://purl.obolibrary.org/obo/UBERON_0001284",
         "renal column",
         "Female",
         "10"
        ],
        [
         "1211",
         "Left kidney",
         "http://purl.obolibrary.org/obo/UBERON_0001284",
         "renal column",
         "Female",
         "10"
        ],
        [
         "1304",
         "Right kidney",
         "http://purl.obolibrary.org/obo/UBERON_0002015",
         "kidney capsule",
         "Female",
         "5"
        ],
        [
         "1305",
         "Left kidney",
         "http://purl.obolibrary.org/obo/UBERON_0002015",
         "kidney capsule",
         "Female",
         "5"
        ],
        [
         "1396",
         "heart",
         "http://purl.obolibrary.org/obo/UBERON_0002078",
         "right cardiac atrium",
         "Female",
         "7"
        ],
        [
         "1455",
         "heart",
         "http://purl.obolibrary.org/obo/UBERON_0002079",
         "left cardiac atrium",
         "Female",
         "7"
        ],
        [
         "1515",
         "heart",
         "http://purl.obolibrary.org/obo/UBERON_0002080",
         "heart right ventricle",
         "Female",
         "14"
        ],
        [
         "1577",
         "heart",
         "http://purl.obolibrary.org/obo/UBERON_0002084",
         "heart left ventricle",
         "Female",
         "28"
        ],
        [
         "1642",
         "heart",
         "http://purl.obolibrary.org/obo/UBERON_0002094",
         "interventricular septum",
         "Female",
         "7"
        ],
        [
         "1703",
         "skin",
         "http://purl.obolibrary.org/obo/UBERON_0002097",
         "skin",
         "Female",
         "3"
        ],
        [
         "1711",
         "small intestine",
         "http://purl.obolibrary.org/obo/UBERON_0002115",
         "jejunum",
         "Female",
         "4"
        ],
        [
         "1853",
         "small intestine",
         "http://purl.obolibrary.org/obo/UBERON_0002115",
         "jejunum",
         "Female",
         "2"
        ],
        [
         "1875",
         "small intestine",
         "http://purl.obolibrary.org/obo/UBERON_0002116",
         "ileum",
         "Female",
         "5"
        ],
        [
         "2022",
         "small intestine",
         "http://purl.obolibrary.org/obo/UBERON_0002116",
         "ileum",
         "Female",
         "2"
        ],
        [
         "2044",
         "Right kidney",
         "http://purl.obolibrary.org/obo/UBERON_0002189",
         "outer cortex of kidney",
         "Female",
         "22"
        ],
        [
         "2045",
         "Left kidney",
         "http://purl.obolibrary.org/obo/UBERON_0002189",
         "outer cortex of kidney",
         "Female",
         "22"
        ],
        [
         "2138",
         "Left kidney",
         "http://purl.obolibrary.org/obo/UBERON_0004200",
         "renal pyramid",
         "Female",
         "54"
        ],
        [
         "2139",
         "Right kidney",
         "http://purl.obolibrary.org/obo/UBERON_0004200",
         "renal pyramid",
         "Female",
         "54"
        ],
        [
         "2234",
         "thymus",
         "http://purl.obolibrary.org/obo/UBERON_0005457",
         "left thymus lobe",
         "Female",
         "2"
        ],
        [
         "2255",
         "thymus",
         "http://purl.obolibrary.org/obo/UBERON_0005469",
         "right thymus lobe",
         "Female",
         "2"
        ],
        [
         "2276",
         "urinary bladder",
         "http://purl.obolibrary.org/obo/UBERON_0006082",
         "fundus of urinary bladder",
         "Female",
         "2"
        ],
        [
         "2290",
         "pancreas",
         "http://purl.obolibrary.org/obo/UBERON_0010373",
         "uncinate process of pancreas",
         "Female",
         "1"
        ],
        [
         "2310",
         "small intestine",
         "http://purl.obolibrary.org/obo/UBERON_0013644",
         "duodenal ampulla",
         "Female",
         "2"
        ],
        [
         "2441",
         "Right mammary gland",
         "http://purl.obolibrary.org/obo/UBERON_0015134",
         "main lactiferous duct",
         "Female",
         "5"
        ],
        [
         "2442",
         "Left mammary gland",
         "http://purl.obolibrary.org/obo/UBERON_0015134",
         "main lactiferous duct",
         "Female",
         "5"
        ],
        [
         "2469",
         "Left mammary gland",
         "http://purl.obolibrary.org/obo/UBERON_0018140",
         "mammary lobe",
         "Female",
         "2"
        ],
        [
         "2470",
         "Right mammary gland",
         "http://purl.obolibrary.org/obo/UBERON_0018140",
         "mammary lobe",
         "Female",
         "2"
        ],
        [
         "2497",
         "large intestine",
         "http://purl.obolibrary.org/obo/UBERON_0022277",
         "hepatic flexure of colon",
         "Female",
         "3"
        ],
        [
         "2630",
         "pancreas",
         "http://purl.org/sig/ont/fma/fma14517",
         "Neck of pancreas",
         "Female",
         "1"
        ],
        [
         "2650",
         "small intestine",
         "http://purl.org/sig/ont/fma/fma14928",
         "descending part of duodenum",
         "Female",
         "4"
        ]
       ],
       "shape": {
        "columns": 5,
        "rows": 148
       }
      },
      "text/html": [
       "<div>\n",
       "<style scoped>\n",
       "    .dataframe tbody tr th:only-of-type {\n",
       "        vertical-align: middle;\n",
       "    }\n",
       "\n",
       "    .dataframe tbody tr th {\n",
       "        vertical-align: top;\n",
       "    }\n",
       "\n",
       "    .dataframe thead th {\n",
       "        text-align: right;\n",
       "    }\n",
       "</style>\n",
       "<table border=\"1\" class=\"dataframe\">\n",
       "  <thead>\n",
       "    <tr style=\"text-align: right;\">\n",
       "      <th></th>\n",
       "      <th>organ</th>\n",
       "      <th>as</th>\n",
       "      <th>as_label</th>\n",
       "      <th>sex</th>\n",
       "      <th>dataset_count</th>\n",
       "    </tr>\n",
       "  </thead>\n",
       "  <tbody>\n",
       "    <tr>\n",
       "      <th>0</th>\n",
       "      <td>large intestine</td>\n",
       "      <td>http://purl.obolibrary.org/obo/UBERON_0001052</td>\n",
       "      <td>rectum</td>\n",
       "      <td>Female</td>\n",
       "      <td>3</td>\n",
       "    </tr>\n",
       "    <tr>\n",
       "      <th>128</th>\n",
       "      <td>pancreas</td>\n",
       "      <td>http://purl.obolibrary.org/obo/UBERON_0001069</td>\n",
       "      <td>head of pancreas</td>\n",
       "      <td>Female</td>\n",
       "      <td>1</td>\n",
       "    </tr>\n",
       "    <tr>\n",
       "      <th>148</th>\n",
       "      <td>pancreas</td>\n",
       "      <td>http://purl.obolibrary.org/obo/UBERON_0001150</td>\n",
       "      <td>body of pancreas</td>\n",
       "      <td>Female</td>\n",
       "      <td>1</td>\n",
       "    </tr>\n",
       "    <tr>\n",
       "      <th>168</th>\n",
       "      <td>pancreas</td>\n",
       "      <td>http://purl.obolibrary.org/obo/UBERON_0001151</td>\n",
       "      <td>tail of pancreas</td>\n",
       "      <td>Female</td>\n",
       "      <td>1</td>\n",
       "    </tr>\n",
       "    <tr>\n",
       "      <th>188</th>\n",
       "      <td>large intestine</td>\n",
       "      <td>http://purl.obolibrary.org/obo/UBERON_0001153</td>\n",
       "      <td>caecum</td>\n",
       "      <td>Female</td>\n",
       "      <td>3</td>\n",
       "    </tr>\n",
       "    <tr>\n",
       "      <th>...</th>\n",
       "      <td>...</td>\n",
       "      <td>...</td>\n",
       "      <td>...</td>\n",
       "      <td>...</td>\n",
       "      <td>...</td>\n",
       "    </tr>\n",
       "    <tr>\n",
       "      <th>8458</th>\n",
       "      <td>lung</td>\n",
       "      <td>http://purl.org/sig/ont/fma/fma7428</td>\n",
       "      <td>Left anterior segmental bronchus</td>\n",
       "      <td>Male</td>\n",
       "      <td>1</td>\n",
       "    </tr>\n",
       "    <tr>\n",
       "      <th>8559</th>\n",
       "      <td>lung</td>\n",
       "      <td>http://purl.org/sig/ont/fma/fma7505</td>\n",
       "      <td>Left medial basal segmental bronchus</td>\n",
       "      <td>Male</td>\n",
       "      <td>1</td>\n",
       "    </tr>\n",
       "    <tr>\n",
       "      <th>8656</th>\n",
       "      <td>lung</td>\n",
       "      <td>http://purl.org/sig/ont/fma/fma7507</td>\n",
       "      <td>Left lateral basal segmental bronchus</td>\n",
       "      <td>Male</td>\n",
       "      <td>1</td>\n",
       "    </tr>\n",
       "    <tr>\n",
       "      <th>8751</th>\n",
       "      <td>lung</td>\n",
       "      <td>http://purl.org/sig/ont/fma/fma7508</td>\n",
       "      <td>Left posterior basal segmental bronchus</td>\n",
       "      <td>Male</td>\n",
       "      <td>27</td>\n",
       "    </tr>\n",
       "    <tr>\n",
       "      <th>8884</th>\n",
       "      <td>lung</td>\n",
       "      <td>http://purl.org/sig/ont/fma/fma7508</td>\n",
       "      <td>Left posterior basal segmental bronchus</td>\n",
       "      <td>Male</td>\n",
       "      <td>1</td>\n",
       "    </tr>\n",
       "  </tbody>\n",
       "</table>\n",
       "<p>148 rows × 5 columns</p>\n",
       "</div>"
      ],
      "text/plain": [
       "                organ                                             as  \\\n",
       "0     large intestine  http://purl.obolibrary.org/obo/UBERON_0001052   \n",
       "128          pancreas  http://purl.obolibrary.org/obo/UBERON_0001069   \n",
       "148          pancreas  http://purl.obolibrary.org/obo/UBERON_0001150   \n",
       "168          pancreas  http://purl.obolibrary.org/obo/UBERON_0001151   \n",
       "188   large intestine  http://purl.obolibrary.org/obo/UBERON_0001153   \n",
       "...               ...                                            ...   \n",
       "8458             lung            http://purl.org/sig/ont/fma/fma7428   \n",
       "8559             lung            http://purl.org/sig/ont/fma/fma7505   \n",
       "8656             lung            http://purl.org/sig/ont/fma/fma7507   \n",
       "8751             lung            http://purl.org/sig/ont/fma/fma7508   \n",
       "8884             lung            http://purl.org/sig/ont/fma/fma7508   \n",
       "\n",
       "                                     as_label     sex  dataset_count  \n",
       "0                                      rectum  Female              3  \n",
       "128                          head of pancreas  Female              1  \n",
       "148                          body of pancreas  Female              1  \n",
       "168                          tail of pancreas  Female              1  \n",
       "188                                    caecum  Female              3  \n",
       "...                                       ...     ...            ...  \n",
       "8458         Left anterior segmental bronchus    Male              1  \n",
       "8559     Left medial basal segmental bronchus    Male              1  \n",
       "8656    Left lateral basal segmental bronchus    Male              1  \n",
       "8751  Left posterior basal segmental bronchus    Male             27  \n",
       "8884  Left posterior basal segmental bronchus    Male              1  \n",
       "\n",
       "[148 rows x 5 columns]"
      ]
     },
     "execution_count": 44,
     "metadata": {},
     "output_type": "execute_result"
    }
   ],
   "source": [
    "df_as_unique = df[['organ','as','as_label','sex','dataset_count']].drop_duplicates()\n",
    "df_as_unique"
   ]
  },
  {
   "cell_type": "code",
   "execution_count": 45,
   "id": "6b0e8c10",
   "metadata": {},
   "outputs": [],
   "source": [
    "# export\n",
    "df_as_unique.to_csv('output/df_as_unique.csv', index=False)"
   ]
  }
 ],
 "metadata": {
  "kernelspec": {
   "display_name": ".venv",
   "language": "python",
   "name": "python3"
  },
  "language_info": {
   "codemirror_mode": {
    "name": "ipython",
    "version": 3
   },
   "file_extension": ".py",
   "mimetype": "text/x-python",
   "name": "python",
   "nbconvert_exporter": "python",
   "pygments_lexer": "ipython3",
   "version": "3.12.4"
  }
 },
 "nbformat": 4,
 "nbformat_minor": 5
}
